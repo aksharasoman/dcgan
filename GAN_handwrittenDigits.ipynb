{
  "cells": [
    {
      "cell_type": "markdown",
      "metadata": {
        "id": "L3lkJsRJKeDn"
      },
      "source": [
        "Build a Generative Adversarial Network (GAN) model to generate handwritten digits. Deep Convolitional GAN (DCGAN) is used.\n",
        "\n",
        "Code for this project comprises -- parts:\n",
        "1. Set seed.\n",
        "2. Configurations\n",
        "3. Dataset : load & into batches (dataloader)\n",
        "\n",
        "\n",
        "\n",
        "\n",
        "\n",
        "\n"
      ]
    },
    {
      "cell_type": "code",
      "execution_count": 2,
      "metadata": {
        "colab": {
          "base_uri": "https://localhost:8080/"
        },
        "id": "ymGF8J7HKWRk",
        "outputId": "49a98c45-a5e4-41e8-9206-925c9a19a658"
      },
      "outputs": [
        {
          "data": {
            "text/plain": [
              "<torch._C.Generator at 0x7c08443b44d0>"
            ]
          },
          "execution_count": 2,
          "metadata": {},
          "output_type": "execute_result"
        }
      ],
      "source": [
        "import torch\n",
        "import matplotlib.pyplot as plt\n",
        "\n",
        "torch.manual_seed(32)"
      ]
    },
    {
      "cell_type": "markdown",
      "metadata": {
        "id": "qPw2OVV-LqPT"
      },
      "source": [
        "Configurations"
      ]
    },
    {
      "cell_type": "code",
      "execution_count": 3,
      "metadata": {
        "id": "cxD9gsjALppL"
      },
      "outputs": [],
      "source": [
        "device = 'cuda'\n",
        "batch_size = 128\n",
        "\n",
        "noise_dim = 64 #shape of the random noise vector in the generator\n",
        "\n",
        "# Optimizer parameters\n",
        "lr = 0.002\n",
        "beta_1 = 0.5\n",
        "beta_2 = 0.999\n",
        "\n",
        "# Training Parameters\n",
        "epochs = 20"
      ]
    },
    {
      "cell_type": "markdown",
      "metadata": {
        "id": "6VQ4683AMGmq"
      },
      "source": [
        "# Load Dataset"
      ]
    },
    {
      "cell_type": "code",
      "execution_count": 4,
      "metadata": {
        "colab": {
          "base_uri": "https://localhost:8080/"
        },
        "id": "i9iTPsUoMjwx",
        "outputId": "af53f366-1fa5-448f-c93d-fe3f865ab14a"
      },
      "outputs": [
        {
          "name": "stdout",
          "output_type": "stream",
          "text": [
            "Downloading http://yann.lecun.com/exdb/mnist/train-images-idx3-ubyte.gz\n",
            "Failed to download (trying next):\n",
            "HTTP Error 403: Forbidden\n",
            "\n",
            "Downloading https://ossci-datasets.s3.amazonaws.com/mnist/train-images-idx3-ubyte.gz\n",
            "Downloading https://ossci-datasets.s3.amazonaws.com/mnist/train-images-idx3-ubyte.gz to ./data/MNIST/raw/train-images-idx3-ubyte.gz\n"
          ]
        },
        {
          "name": "stderr",
          "output_type": "stream",
          "text": [
            "100%|██████████| 9912422/9912422 [00:00<00:00, 15754331.09it/s]\n"
          ]
        },
        {
          "name": "stdout",
          "output_type": "stream",
          "text": [
            "Extracting ./data/MNIST/raw/train-images-idx3-ubyte.gz to ./data/MNIST/raw\n",
            "\n",
            "Downloading http://yann.lecun.com/exdb/mnist/train-labels-idx1-ubyte.gz\n",
            "Failed to download (trying next):\n",
            "HTTP Error 403: Forbidden\n",
            "\n",
            "Downloading https://ossci-datasets.s3.amazonaws.com/mnist/train-labels-idx1-ubyte.gz\n",
            "Downloading https://ossci-datasets.s3.amazonaws.com/mnist/train-labels-idx1-ubyte.gz to ./data/MNIST/raw/train-labels-idx1-ubyte.gz\n"
          ]
        },
        {
          "name": "stderr",
          "output_type": "stream",
          "text": [
            "100%|██████████| 28881/28881 [00:00<00:00, 489300.74it/s]\n"
          ]
        },
        {
          "name": "stdout",
          "output_type": "stream",
          "text": [
            "Extracting ./data/MNIST/raw/train-labels-idx1-ubyte.gz to ./data/MNIST/raw\n",
            "\n",
            "Downloading http://yann.lecun.com/exdb/mnist/t10k-images-idx3-ubyte.gz\n",
            "Failed to download (trying next):\n",
            "HTTP Error 403: Forbidden\n",
            "\n",
            "Downloading https://ossci-datasets.s3.amazonaws.com/mnist/t10k-images-idx3-ubyte.gz\n",
            "Downloading https://ossci-datasets.s3.amazonaws.com/mnist/t10k-images-idx3-ubyte.gz to ./data/MNIST/raw/t10k-images-idx3-ubyte.gz\n"
          ]
        },
        {
          "name": "stderr",
          "output_type": "stream",
          "text": [
            "100%|██████████| 1648877/1648877 [00:00<00:00, 4379491.42it/s]\n"
          ]
        },
        {
          "name": "stdout",
          "output_type": "stream",
          "text": [
            "Extracting ./data/MNIST/raw/t10k-images-idx3-ubyte.gz to ./data/MNIST/raw\n",
            "\n",
            "Downloading http://yann.lecun.com/exdb/mnist/t10k-labels-idx1-ubyte.gz\n",
            "Failed to download (trying next):\n",
            "HTTP Error 403: Forbidden\n",
            "\n",
            "Downloading https://ossci-datasets.s3.amazonaws.com/mnist/t10k-labels-idx1-ubyte.gz\n",
            "Downloading https://ossci-datasets.s3.amazonaws.com/mnist/t10k-labels-idx1-ubyte.gz to ./data/MNIST/raw/t10k-labels-idx1-ubyte.gz\n"
          ]
        },
        {
          "name": "stderr",
          "output_type": "stream",
          "text": [
            "100%|██████████| 4542/4542 [00:00<00:00, 10613107.95it/s]"
          ]
        },
        {
          "name": "stdout",
          "output_type": "stream",
          "text": [
            "Extracting ./data/MNIST/raw/t10k-labels-idx1-ubyte.gz to ./data/MNIST/raw\n",
            "\n"
          ]
        },
        {
          "name": "stderr",
          "output_type": "stream",
          "text": [
            "\n"
          ]
        }
      ],
      "source": [
        "from torchvision import datasets, transforms as T\n",
        "from torch.utils.data import DataLoader\n",
        "\n",
        "train_aug = T.Compose([\n",
        "    T.ToTensor(),\n",
        "    T.RandomRotation((-20,20))\n",
        "])\n",
        "\n",
        "trainset = datasets.MNIST(root='./data', train=True, download=True, transform=train_aug)\n",
        "trainloader = DataLoader(trainset, batch_size=batch_size, shuffle=True)\n"
      ]
    },
    {
      "cell_type": "markdown",
      "metadata": {
        "id": "5GFq7yKVNsYz"
      },
      "source": [
        "(Debug) Visualize training images"
      ]
    },
    {
      "cell_type": "code",
      "execution_count": 5,
      "metadata": {
        "colab": {
          "base_uri": "https://localhost:8080/"
        },
        "id": "aIzJ5qLkNUcK",
        "outputId": "27e14b72-1a96-4d0f-ad88-c41f997d8738"
      },
      "outputs": [
        {
          "name": "stdout",
          "output_type": "stream",
          "text": [
            "torch.Size([1, 28, 28])\n",
            "2\n"
          ]
        }
      ],
      "source": [
        "img,label = trainset[5]\n",
        "print(img.shape)\n",
        "print(label)"
      ]
    },
    {
      "cell_type": "code",
      "execution_count": 6,
      "metadata": {
        "colab": {
          "base_uri": "https://localhost:8080/",
          "height": 430
        },
        "id": "U3hjuNCYOQIq",
        "outputId": "6640396b-9c7c-4ad7-ee79-14e3aba62188"
      },
      "outputs": [
        {
          "data": {
            "image/png": "[encoded data removed]",
            "text/plain": [
              "<Figure size 640x480 with 1 Axes>"
            ]
          },
          "metadata": {},
          "output_type": "display_data"
        }
      ],
      "source": [
        "plt.imshow(img.squeeze(), cmap='gray')\n",
        "plt.imsave('img1.png',img.squeeze(), cmap='gray')\n",
        "\n",
        "plt.show()"
      ]
    },
    {
      "cell_type": "markdown",
      "metadata": {
        "id": "apxDpYJlPFCs"
      },
      "source": [
        "(Debug) Iterate through dataset batches & Display a grid of images"
      ]
    },
    {
      "cell_type": "code",
      "execution_count": 7,
      "metadata": {
        "colab": {
          "base_uri": "https://localhost:8080/"
        },
        "id": "ZyXgAvvMOaeb",
        "outputId": "e87420bb-0be4-4d15-edcf-bcb6291bd4fa"
      },
      "outputs": [
        {
          "name": "stdout",
          "output_type": "stream",
          "text": [
            "torch.Size([128, 1, 28, 28])\n",
            "torch.Size([128])\n"
          ]
        }
      ],
      "source": [
        "images, labels = next(iter(trainloader))\n",
        "print(images.shape)\n",
        "print(labels.shape)"
      ]
    },
    {
      "cell_type": "markdown",
      "metadata": {
        "id": "qfgd7kbMPSll"
      },
      "source": [
        "batch_size is 128. Image size: 28 x 28"
      ]
    },
    {
      "cell_type": "code",
      "execution_count": 12,
      "metadata": {
        "id": "nLiL9eYUPWsa"
      },
      "outputs": [],
      "source": [
        "# show_images_grid: function used to plot some images from the batch as a grid\n",
        "\n",
        "from torchvision.utils import make_grid\n",
        "def show_tensorImages_grid(images,num_images=16):\n",
        "  unflat_img = images.detach().cpu()\n",
        "  img_grid = make_grid(unflat_img[:num_images],nrow=4)\n",
        "  plt.imshow(img_grid.permute(1,2,0).squeeze()) #channel dimension has to be moved to end: for matplotlib\n",
        "  plt.show()"
      ]
    },
    {
      "cell_type": "code",
      "execution_count": 13,
      "metadata": {
        "id": "GisCzoGmV3eP"
      },
      "outputs": [],
      "source": [
        "from torchvision.utils import save_image\n",
        "save_image(images[:36],'checkf.png',nrow=6)"
      ]
    },
    {
      "cell_type": "code",
      "execution_count": 13,
      "metadata": {
        "colab": {
          "base_uri": "https://localhost:8080/",
          "height": 434
        },
        "id": "5O077MClPfqU",
        "outputId": "6cd94155-f441-4020-d7fa-0f75c266d30a"
      },
      "outputs": [
        {
          "data": {
            "image/png": "[encoded data removed]",
            "text/plain": [
              "<Figure size 640x480 with 1 Axes>"
            ]
          },
          "metadata": {},
          "output_type": "display_data"
        }
      ],
      "source": [
        "show_tensorImages_grid(images,16)"
      ]
    },
    {
      "cell_type": "markdown",
      "metadata": {
        "id": "lh0D8B6A8bT0"
      },
      "source": [
        "# Create Discriminator network"
      ]
    },
    {
      "cell_type": "code",
      "execution_count": 11,
      "metadata": {
        "colab": {
          "base_uri": "https://localhost:8080/",
          "height": 143
        },
        "id": "G4F6-Zu_Bu3C",
        "outputId": "b63ab36a-ec78-471c-bbe5-4739b48d5599"
      },
      "outputs": [
        {
          "data": {
            "application/vnd.google.colaboratory.intrinsic+json": {
              "type": "string"
            },
            "text/plain": [
              "'\\n\\nNetwork : Discriminator\\n\\ninput : (bs, 1, 28, 28)\\n      |                                                                                               ---- SUMMARY ----\\n      V\\nConv2d( in_channels = 1, out_channels = 16, kernel_size = (3,3), stride = 2)                           #(bs, 16, 13, 13)\\nBatchNorm2d()                                                                                          #(bs, 16, 13, 13)\\nLeakyReLU()                                                                                            #(bs, 16, 13, 13)\\n      |\\n      V\\nConv2d( in_channels = 16, out_channels = 32, kernel_size = (5,5), stride = 2)                          #(bs, 32, 5, 5)\\nBatchNorm2d()                                                                                          #(bs, 32, 5, 5)\\nLeakyReLU()                                                                                            #(bs, 32, 5, 5)\\n      |\\n      V\\nConv2d( in_channels = 32, out_channels = 64, kernel_size = (5,5), stride = 2)                          #(bs, 64, 1, 1)\\nBatchNorm2d()                                                                                          #(bs, 64, 1, 1)\\nLeakyReLU()                                                                                            #(bs, 64, 1, 1)\\n      |\\n      V\\nFlatten()                                                                                              #(bs, 64)\\nLinear(in_features = 64, out_features = 1)                                                             #(bs, 1)\\n\\n'"
            ]
          },
          "execution_count": 11,
          "metadata": {},
          "output_type": "execute_result"
        }
      ],
      "source": [
        "'''\n",
        "\n",
        "Network : Discriminator\n",
        "\n",
        "input : (bs, 1, 28, 28)\n",
        "      |                                                                                               ---- SUMMARY ----\n",
        "      V\n",
        "Conv2d( in_channels = 1, out_channels = 16, kernel_size = (3,3), stride = 2)                           #(bs, 16, 13, 13)\n",
        "BatchNorm2d()                                                                                          #(bs, 16, 13, 13)\n",
        "LeakyReLU()                                                                                            #(bs, 16, 13, 13)\n",
        "      |\n",
        "      V\n",
        "Conv2d( in_channels = 16, out_channels = 32, kernel_size = (5,5), stride = 2)                          #(bs, 32, 5, 5)\n",
        "BatchNorm2d()                                                                                          #(bs, 32, 5, 5)\n",
        "LeakyReLU()                                                                                            #(bs, 32, 5, 5)\n",
        "      |\n",
        "      V\n",
        "Conv2d( in_channels = 32, out_channels = 64, kernel_size = (5,5), stride = 2)                          #(bs, 64, 1, 1)\n",
        "BatchNorm2d()                                                                                          #(bs, 64, 1, 1)\n",
        "LeakyReLU()                                                                                            #(bs, 64, 1, 1)\n",
        "      |\n",
        "      V\n",
        "Flatten()                                                                                              #(bs, 64)\n",
        "Linear(in_features = 64, out_features = 1)                                                             #(bs, 1)\n",
        "\n",
        "'''"
      ]
    },
    {
      "cell_type": "code",
      "execution_count": 12,
      "metadata": {
        "id": "L77DHuu68ax6"
      },
      "outputs": [],
      "source": [
        "import torch.nn as nn\n",
        "from torchsummary import summary"
      ]
    },
    {
      "cell_type": "code",
      "execution_count": 13,
      "metadata": {
        "id": "VUsXym1_8PV2"
      },
      "outputs": [],
      "source": [
        "def disc_block(in_channels, out_channels, kernel_size, stride=2):\n",
        "  block = nn.Sequential(nn.Conv2d(in_channels, out_channels,kernel_size,stride),\n",
        "                        nn.BatchNorm2d(out_channels),\n",
        "                        nn.LeakyReLU(0.2))\n",
        "  return block\n"
      ]
    },
    {
      "cell_type": "code",
      "execution_count": 14,
      "metadata": {
        "id": "XvLaMySeDAGc"
      },
      "outputs": [],
      "source": [
        "class Discriminator(nn.Module):\n",
        "  def __init__(self):\n",
        "    super().__init__()\n",
        "\n",
        "    self.block1 = disc_block(1,16,(3,3))\n",
        "    self.block2 = disc_block(16,32,(5,5))\n",
        "    self.block3 = disc_block(32,64,(5,5))\n",
        "\n",
        "    self.flatten = nn.Flatten()\n",
        "    self.linear = nn.Linear(64,1)\n",
        "\n",
        "  def forward(self,x):\n",
        "    x = self.block1(x)\n",
        "    x = self.block2(x)\n",
        "    x = self.block3(x)\n",
        "    x = self.flatten(x)\n",
        "    x = self.linear(x) # NB: we are not using sigmoid output layer: since BCEwithLogitsLoss() has sigmoid and BCE loss in a single layer which provides better stability.\n",
        "    return x"
      ]
    },
    {
      "cell_type": "markdown",
      "metadata": {
        "id": "TuGoQe3RFAC-"
      },
      "source": [
        "Initialise discriminator class and double-check dimensions of each layer."
      ]
    },
    {
      "cell_type": "code",
      "execution_count": 15,
      "metadata": {
        "colab": {
          "base_uri": "https://localhost:8080/"
        },
        "id": "5w2pLL7MFJp3",
        "outputId": "98300e1c-95fd-40f7-cf6d-f378af2386dd"
      },
      "outputs": [
        {
          "name": "stdout",
          "output_type": "stream",
          "text": [
            "----------------------------------------------------------------\n",
            "        Layer (type)               Output Shape         Param #\n",
            "================================================================\n",
            "            Conv2d-1           [-1, 16, 13, 13]             160\n",
            "       BatchNorm2d-2           [-1, 16, 13, 13]              32\n",
            "         LeakyReLU-3           [-1, 16, 13, 13]               0\n",
            "            Conv2d-4             [-1, 32, 5, 5]          12,832\n",
            "       BatchNorm2d-5             [-1, 32, 5, 5]              64\n",
            "         LeakyReLU-6             [-1, 32, 5, 5]               0\n",
            "            Conv2d-7             [-1, 64, 1, 1]          51,264\n",
            "       BatchNorm2d-8             [-1, 64, 1, 1]             128\n",
            "         LeakyReLU-9             [-1, 64, 1, 1]               0\n",
            "          Flatten-10                   [-1, 64]               0\n",
            "           Linear-11                    [-1, 1]              65\n",
            "================================================================\n",
            "Total params: 64,545\n",
            "Trainable params: 64,545\n",
            "Non-trainable params: 0\n",
            "----------------------------------------------------------------\n",
            "Input size (MB): 0.00\n",
            "Forward/backward pass size (MB): 0.08\n",
            "Params size (MB): 0.25\n",
            "Estimated Total Size (MB): 0.33\n",
            "----------------------------------------------------------------\n"
          ]
        }
      ],
      "source": [
        "D = Discriminator().to(device)\n",
        "summary(D,input_size=(1,28,28))\n"
      ]
    },
    {
      "cell_type": "markdown",
      "metadata": {
        "id": "h0Y8C-d6E6Is"
      },
      "source": [
        "# Create Generator Network"
      ]
    },
    {
      "cell_type": "code",
      "execution_count": 16,
      "metadata": {
        "colab": {
          "base_uri": "https://localhost:8080/",
          "height": 143
        },
        "id": "WOBm8UMCEwls",
        "outputId": "3bc381ba-990a-4928-d2e0-af71c9cdfac4"
      },
      "outputs": [
        {
          "data": {
            "application/vnd.google.colaboratory.intrinsic+json": {
              "type": "string"
            },
            "text/plain": [
              "'\\n\\nNetwork : Generator\\n\\nz_dim = 64\\ninput : (bs,z_dim)\\n\\n      |\\n      | Reshape\\n      V\\n\\ninput : (bs, channel, height, width) -> (bs, z_dim , 1 , 1)\\n      |                                                                                               ---- SUMMARY ----\\n      V\\nConvTranspose2d( in_channels = z_dim, out_channels = 256, kernel_size = (3,3), stride = 2)             #(bs, 256, 3, 3)\\nBatchNorm2d()                                                                                          #(bs, 256, 3, 3)\\nReLU()                                                                                                 #(bs, 256, 3, 3)\\n      |\\n      V\\nConvTranspose2d( in_channels = 256, out_channels = 128, kernel_size = (4,4), stride = 1)               #(bs, 128, 6, 6)\\nBatchNorm2d()                                                                                          #(bs, 128, 6, 6)\\nReLU()                                                                                                 #(bs, 128, 6, 6)\\n      |\\n      V\\nConvTranspose2d( in_channels = 128, out_channels = 64, kernel_size = (3,3), stride = 2)                #(bs, 64, 13, 13)\\nBatchNorm2d()                                                                                          #(bs, 64, 13, 13)\\nReLU()                                                                                                 #(bs, 64, 13, 13)\\n      |\\n      V\\nConvTranspose2d( in_channels = 64, out_channels = 1, kernel_size = (4,4), stride = 2)                  #(bs, 1, 28, 28)\\nTanh()                                                                                                 #(bs, 1, 28, 28)\\n\\n'"
            ]
          },
          "execution_count": 16,
          "metadata": {},
          "output_type": "execute_result"
        }
      ],
      "source": [
        "'''\n",
        "\n",
        "Network : Generator\n",
        "\n",
        "z_dim = 64\n",
        "input : (bs,z_dim)\n",
        "\n",
        "      |\n",
        "      | Reshape\n",
        "      V\n",
        "\n",
        "input : (bs, channel, height, width) -> (bs, z_dim , 1 , 1)\n",
        "      |                                                                                               ---- SUMMARY ----\n",
        "      V\n",
        "ConvTranspose2d( in_channels = z_dim, out_channels = 256, kernel_size = (3,3), stride = 2)             #(bs, 256, 3, 3)\n",
        "BatchNorm2d()                                                                                          #(bs, 256, 3, 3)\n",
        "ReLU()                                                                                                 #(bs, 256, 3, 3)\n",
        "      |\n",
        "      V\n",
        "ConvTranspose2d( in_channels = 256, out_channels = 128, kernel_size = (4,4), stride = 1)               #(bs, 128, 6, 6)\n",
        "BatchNorm2d()                                                                                          #(bs, 128, 6, 6)\n",
        "ReLU()                                                                                                 #(bs, 128, 6, 6)\n",
        "      |\n",
        "      V\n",
        "ConvTranspose2d( in_channels = 128, out_channels = 64, kernel_size = (3,3), stride = 2)                #(bs, 64, 13, 13)\n",
        "BatchNorm2d()                                                                                          #(bs, 64, 13, 13)\n",
        "ReLU()                                                                                                 #(bs, 64, 13, 13)\n",
        "      |\n",
        "      V\n",
        "ConvTranspose2d( in_channels = 64, out_channels = 1, kernel_size = (4,4), stride = 2)                  #(bs, 1, 28, 28)\n",
        "Tanh()                                                                                                 #(bs, 1, 28, 28)\n",
        "\n",
        "'''"
      ]
    },
    {
      "cell_type": "code",
      "execution_count": 17,
      "metadata": {
        "id": "7lZur9WsE42M"
      },
      "outputs": [],
      "source": [
        "def get_generator_block(in_channels,out_channels,kernel_size,stride,final_block = False):\n",
        "  if final_block:\n",
        "    return nn.Sequential(\n",
        "        nn.ConvTranspose2d(in_channels,out_channels,kernel_size,stride),\n",
        "        nn.Tanh()\n",
        "    )\n",
        "  return nn.Sequential(\n",
        "      nn.ConvTranspose2d(in_channels,out_channels,kernel_size,stride),\n",
        "      nn.BatchNorm2d(out_channels),\n",
        "      nn.ReLU()\n",
        "  )"
      ]
    },
    {
      "cell_type": "code",
      "execution_count": 18,
      "metadata": {
        "id": "t3Q6PlKOLEeM"
      },
      "outputs": [],
      "source": [
        "class Generator(nn.Module):\n",
        "  def __init__(self,z_dim):\n",
        "    super().__init__()\n",
        "    self.z_dim = z_dim\n",
        "\n",
        "    self.block1 = get_generator_block(z_dim,256,(3,3),2)\n",
        "    self.block2 = get_generator_block(256,128,(4,4),1)\n",
        "    self.block3 = get_generator_block(128,64,(3,3),2)\n",
        "\n",
        "    self.block4 = get_generator_block(64,1,(4,4),2,final_block=True)\n",
        "\n",
        "  def forward(self,r_noise_vec):\n",
        "    # (bs,noise_dim) -> (bs,noise_dim,1)\n",
        "    x = r_noise_vec.view(-1,self.z_dim,1,1) #reshape random noise vector\n",
        "    x = self.block1(x)\n",
        "    x = self.block2(x)\n",
        "    x = self.block3(x)\n",
        "    x = self.block4(x)\n",
        "    return x"
      ]
    },
    {
      "cell_type": "code",
      "execution_count": 19,
      "metadata": {
        "colab": {
          "base_uri": "https://localhost:8080/"
        },
        "id": "OLdMCWBWOnka",
        "outputId": "50cf3e79-5e50-4208-be2d-eecddb98b81d"
      },
      "outputs": [
        {
          "name": "stdout",
          "output_type": "stream",
          "text": [
            "----------------------------------------------------------------\n",
            "        Layer (type)               Output Shape         Param #\n",
            "================================================================\n",
            "   ConvTranspose2d-1            [-1, 256, 3, 3]         147,712\n",
            "       BatchNorm2d-2            [-1, 256, 3, 3]             512\n",
            "              ReLU-3            [-1, 256, 3, 3]               0\n",
            "   ConvTranspose2d-4            [-1, 128, 6, 6]         524,416\n",
            "       BatchNorm2d-5            [-1, 128, 6, 6]             256\n",
            "              ReLU-6            [-1, 128, 6, 6]               0\n",
            "   ConvTranspose2d-7           [-1, 64, 13, 13]          73,792\n",
            "       BatchNorm2d-8           [-1, 64, 13, 13]             128\n",
            "              ReLU-9           [-1, 64, 13, 13]               0\n",
            "  ConvTranspose2d-10            [-1, 1, 28, 28]           1,025\n",
            "             Tanh-11            [-1, 1, 28, 28]               0\n",
            "================================================================\n",
            "Total params: 747,841\n",
            "Trainable params: 747,841\n",
            "Non-trainable params: 0\n",
            "----------------------------------------------------------------\n",
            "Input size (MB): 0.00\n",
            "Forward/backward pass size (MB): 0.42\n",
            "Params size (MB): 2.85\n",
            "Estimated Total Size (MB): 3.27\n",
            "----------------------------------------------------------------\n"
          ]
        }
      ],
      "source": [
        "G = Generator(noise_dim).to(device)\n",
        "summary(G,input_size=(noise_dim,))"
      ]
    },
    {
      "cell_type": "code",
      "execution_count": 20,
      "metadata": {
        "id": "Uv0s0QVPwQpR"
      },
      "outputs": [],
      "source": [
        "#Replace random initialized weights to Normal weights\n",
        "def weights_init(m):\n",
        "  if isinstance(m,nn.Conv2d) or isinstance(m,nn.ConvTranspose2d):\n",
        "    nn.init.normal_(m.weight,0.0,0.02)\n",
        "  if isinstance(m,nn.BatchNorm2d):\n",
        "    nn.init.normal_(m.weight,0.0,0.02)\n",
        "    nn.init.constant_(m.bias,0) # all set to 0"
      ]
    },
    {
      "cell_type": "code",
      "execution_count": 21,
      "metadata": {
        "id": "XdHosVsHO10-"
      },
      "outputs": [],
      "source": [
        "D = D.apply(weights_init)\n",
        "G = G.apply(weights_init)"
      ]
    },
    {
      "cell_type": "markdown",
      "metadata": {
        "id": "bKdNhvY-w3f_"
      },
      "source": [
        "# Loss function and Optimizer"
      ]
    },
    {
      "cell_type": "code",
      "execution_count": 31,
      "metadata": {
        "id": "_4NxhHz8O35C"
      },
      "outputs": [],
      "source": [
        "# Fake loss\n",
        "def get_fake_loss(disc_out):\n",
        "  criterion = nn.BCEWithLogitsLoss()\n",
        "  ground_truth = torch.zeros_like(disc_out)\n",
        "  return criterion(disc_out,ground_truth)\n",
        "\n",
        "# real loss\n",
        "def get_real_loss(disc_out):\n",
        "  criterion = nn.BCEWithLogitsLoss()\n",
        "  ground_truth = torch.ones_like(disc_out)\n",
        "  return criterion(disc_out,ground_truth)"
      ]
    },
    {
      "cell_type": "code",
      "execution_count": 24,
      "metadata": {
        "id": "lE4WeDMsxaqx"
      },
      "outputs": [],
      "source": [
        "# Optimizer\n",
        "G_opt = torch.optim.Adam(G.parameters(),lr=lr,betas=(beta_1,beta_2))\n",
        "D_opt = torch.optim.Adam(D.parameters(),lr=lr,betas=(beta_1,beta_2))"
      ]
    },
    {
      "cell_type": "markdown",
      "metadata": {
        "id": "MIZNmm_mx4fy"
      },
      "source": [
        "# Training Loop"
      ]
    },
    {
      "cell_type": "code",
      "execution_count": 2,
      "metadata": {
        "colab": {
          "base_uri": "https://localhost:8080/",
          "height": 216
        },
        "id": "l2vDwYncxr2C",
        "outputId": "b887daf2-ff95-48d5-b1b2-bd115c602e7e"
      },
      "outputs": [
        {
          "ename": "NameError",
          "evalue": "name 'epochs' is not defined",
          "output_type": "error",
          "traceback": [
            "\u001b[0;31m---------------------------------------------------------------------------\u001b[0m",
            "\u001b[0;31mNameError\u001b[0m                                 Traceback (most recent call last)",
            "\u001b[0;32m<ipython-input-2-63e64f15ac4c>\u001b[0m in \u001b[0;36m<cell line: 2>\u001b[0;34m()\u001b[0m\n\u001b[1;32m      1\u001b[0m \u001b[0;32mfrom\u001b[0m \u001b[0mtqdm\u001b[0m \u001b[0;32mimport\u001b[0m \u001b[0mtqdm\u001b[0m\u001b[0;34m\u001b[0m\u001b[0;34m\u001b[0m\u001b[0m\n\u001b[0;32m----> 2\u001b[0;31m \u001b[0;32mfor\u001b[0m \u001b[0mi\u001b[0m \u001b[0;32min\u001b[0m \u001b[0mrange\u001b[0m\u001b[0;34m(\u001b[0m\u001b[0mepochs\u001b[0m\u001b[0;34m)\u001b[0m\u001b[0;34m:\u001b[0m\u001b[0;34m\u001b[0m\u001b[0;34m\u001b[0m\u001b[0m\n\u001b[0m\u001b[1;32m      3\u001b[0m   \u001b[0;31m# for each epoch:\u001b[0m\u001b[0;34m\u001b[0m\u001b[0;34m\u001b[0m\u001b[0m\n\u001b[1;32m      4\u001b[0m   \u001b[0mtotal_d_loss\u001b[0m \u001b[0;34m=\u001b[0m \u001b[0;36m0.0\u001b[0m\u001b[0;34m\u001b[0m\u001b[0;34m\u001b[0m\u001b[0m\n\u001b[1;32m      5\u001b[0m   \u001b[0mtotal_g_loss\u001b[0m \u001b[0;34m=\u001b[0m \u001b[0;36m0.0\u001b[0m\u001b[0;34m\u001b[0m\u001b[0;34m\u001b[0m\u001b[0m\n",
            "\u001b[0;31mNameError\u001b[0m: name 'epochs' is not defined"
          ]
        }
      ],
      "source": [
        "from tqdm import tqdm\n",
        "for i in range(epochs):\n",
        "  # for each epoch:\n",
        "  total_d_loss = 0.0\n",
        "  total_g_loss = 0.0\n",
        "  for real_img, _ in tqdm(trainloader): #tqdm is used to show the progress bar for loop execution\n",
        "    # for each mini-batch:\n",
        "    real_img = real_img.to(device) # move to GPU\n",
        "\n",
        "    # Train Discriminator\n",
        "    D_opt.zero_grad() # set D gradients to 0\n",
        "\n",
        "    random_noise_vec = torch.randn(batch_size,noise_dim,device=device)\n",
        "    gen_img = G(random_noise_vec)\n",
        "    gen_Dout = D(gen_img)\n",
        "    fake_loss = get_fake_loss(gen_Dout)\n",
        "\n",
        "    real_Dout = D(real_img)\n",
        "    real_loss = get_real_loss(real_Dout)\n",
        "\n",
        "    d_loss = (real_loss + fake_loss)/2\n",
        "    total_d_loss += d_loss.item()\n",
        "    d_loss.backward()\n",
        "    D_opt.step()\n",
        "\n",
        "    # Train Generator\n",
        "    G_opt.zero_grad() # set G gradients to zero\n",
        "\n",
        "    random_noise_vec = torch.randn(batch_size,noise_dim,device=device)\n",
        "    gen_img = G(random_noise_vec)\n",
        "    gen_Dout = D(gen_img)\n",
        "    g_loss = get_real_loss(gen_Dout)\n",
        "\n",
        "    total_g_loss += g_loss.item()\n",
        "    g_loss.backward()\n",
        "    G_opt.step()\n",
        "\n",
        "  avg_d_loss = total_d_loss/len(trainloader) # computed after each epoch\n",
        "  avg_g_loss = total_g_loss/len(trainloader)\n",
        "\n",
        "  print('Epoch: {} | D_loss: {} | G_loss: {}'.format(i+1,avg_d_loss,avg_g_loss))\n",
        "  show_tensorImages_grid(gen_img,16)"
      ]
    },
    {
      "cell_type": "code",
      "execution_count": null,
      "metadata": {
        "id": "BZf3yHT64pn0"
      },
      "outputs": [],
      "source": [
        "# Run after training is completed.\n",
        "# Now you can use Generator Network to generate handwritten images\n",
        "\n",
        "noise = torch.randn(batch_size, noise_dim, device = device)\n",
        "generated_image = G(noise)\n",
        "\n",
        "show_tensorImages_grid(generated_image)"
      ]
    }
  ],
  "metadata": {
    "accelerator": "GPU",
    "colab": {
      "gpuType": "T4",
      "provenance": []
    },
    "kernelspec": {
      "display_name": "Python 3",
      "name": "python3"
    },
    "language_info": {
      "codemirror_mode": {
        "name": "ipython",
        "version": 3
      },
      "file_extension": ".py",
      "mimetype": "text/x-python",
      "name": "python",
      "nbconvert_exporter": "python",
      "pygments_lexer": "ipython3",
      "version": "3.8.12"
    }
  },
  "nbformat": 4,
  "nbformat_minor": 0
}
